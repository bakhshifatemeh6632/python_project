{
 "cells": [
  {
   "cell_type": "code",
   "execution_count": 2,
   "id": "5fcd02ee",
   "metadata": {},
   "outputs": [],
   "source": [
    "#!pip install tesseract"
   ]
  },
  {
   "cell_type": "code",
   "execution_count": 3,
   "id": "dabf6f55",
   "metadata": {},
   "outputs": [
    {
     "name": "stdout",
     "output_type": "stream",
     "text": [
      "متن شناسایی شده:\n",
      "Pain changes people\n",
      "\n",
      "it makes them trust less,\n",
      "overthink more, and\n",
      "shut people out.\n",
      "\n"
     ]
    }
   ],
   "source": [
    "import cv2\n",
    "import pytesseract\n",
    "\n",
    "# تنظیم مسیر tesseract_cmd\n",
    "pytesseract.pytesseract.tesseract_cmd = r'C:\\Users\\bakhshi\\AppData\\Local\\Programs\\Tesseract-OCR\\tesseract.exe'\n",
    "\n",
    "# نام تصویر را تغییر دهید به نام تصویر مورد نظر شما\n",
    "image_path = '3.jpg'\n",
    "\n",
    "# خواندن تصویر و تبدیل آن به تصویر سطح خاکستری\n",
    "img = cv2.imread(image_path)\n",
    "gray = cv2.cvtColor(img, cv2.COLOR_BGR2GRAY)\n",
    "\n",
    "text = pytesseract.image_to_string(gray, lang='eng')\n",
    "\n",
    "# چاپ متن شناسایی شده\n",
    "print(\"متن شناسایی شده:\")\n",
    "print(text)\n"
   ]
  },
  {
   "cell_type": "code",
   "execution_count": 4,
   "id": "3b31a9d8",
   "metadata": {},
   "outputs": [
    {
     "name": "stdout",
     "output_type": "stream",
     "text": [
      "متن شناسایی شده:\n",
      "Pain changes people\n",
      "\n",
      "it makes them trust less,\n",
      "overthink more, and\n",
      "shut people out.\n",
      "\n",
      "ترجمه به فارسی:\n",
      "مشکلات مردم را عوض میکند\n",
      "\n",
      "این باعث می شود که آنها کمتر اعتماد کنند ،\n",
      "بیشتر را زیرنگرد ، و\n",
      "مردم را خاموش کنید.\n"
     ]
    }
   ],
   "source": [
    "import cv2\n",
    "import pytesseract\n",
    "from googletrans import Translator\n",
    "\n",
    "# تنظیم مسیر tesseract_cmd\n",
    "pytesseract.pytesseract.tesseract_cmd = r'C:\\Users\\bakhshi\\AppData\\Local\\Programs\\Tesseract-OCR\\tesseract.exe'\n",
    "\n",
    "# نام تصویر را تغییر دهید به نام تصویر مورد نظر شما\n",
    "image_path = '3.jpg'\n",
    "\n",
    "# خواندن تصویر و تبدیل آن به تصویر سطح خاکستری\n",
    "img = cv2.imread(image_path)\n",
    "gray = cv2.cvtColor(img, cv2.COLOR_BGR2GRAY)\n",
    "\n",
    "text = pytesseract.image_to_string(gray, lang='eng')\n",
    "\n",
    "# چاپ متن شناسایی شده\n",
    "print(\"متن شناسایی شده:\")\n",
    "print(text)\n",
    "\n",
    "# ترجمه متن به فارسی\n",
    "translator = Translator()\n",
    "translated_text = translator.translate(text, src='en', dest='fa')\n",
    "\n",
    "# چاپ متن ترجمه شده به فارسی\n",
    "print(\"ترجمه به فارسی:\")\n",
    "print(translated_text.text)\n"
   ]
  },
  {
   "cell_type": "code",
   "execution_count": null,
   "id": "d2903c53",
   "metadata": {},
   "outputs": [],
   "source": []
  },
  {
   "cell_type": "code",
   "execution_count": null,
   "id": "062cad97",
   "metadata": {},
   "outputs": [],
   "source": []
  }
 ],
 "metadata": {
  "kernelspec": {
   "display_name": "Python 3 (ipykernel)",
   "language": "python",
   "name": "python3"
  },
  "language_info": {
   "codemirror_mode": {
    "name": "ipython",
    "version": 3
   },
   "file_extension": ".py",
   "mimetype": "text/x-python",
   "name": "python",
   "nbconvert_exporter": "python",
   "pygments_lexer": "ipython3",
   "version": "3.11.1"
  }
 },
 "nbformat": 4,
 "nbformat_minor": 5
}
