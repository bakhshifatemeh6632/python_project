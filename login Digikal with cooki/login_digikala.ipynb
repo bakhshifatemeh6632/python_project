{
 "cells": [
  {
   "cell_type": "code",
   "execution_count": null,
   "metadata": {
    "collapsed": true
   },
   "outputs": [],
   "source": [
    "# login digigkala and create cookie"
   ]
  },
  {
   "cell_type": "code",
   "execution_count": null,
   "outputs": [],
   "source": [
    "from selenium import webdriver\n",
    "from selenium.webdriver.common.by import By\n",
    "import time\n",
    "import json\n",
    "\n",
    "digiUser = \"**********\"  # digikala mobile or username\n",
    "digiPassword = \"***********\"  # digikala password\n",
    "\n",
    "# Create the driver and perform login\n",
    "driver = webdriver.Chrome()\n",
    "driver.maximize_window()\n",
    "driver.get('https://www.digikala.com/users/login/?backUrl=/')  # digkala login page\n",
    "time.sleep(5)\n",
    "driver.find_element(by=By.NAME, value='username').send_keys(digiUser)  # enter username\n",
    "driver.find_element(by=By.TAG_NAME, value='form').submit()\n",
    "time.sleep(5)\n",
    "driver.find_element(by=By.NAME, value='password').send_keys(digiPassword)  # enter password\n",
    "driver.find_element(by=By.TAG_NAME, value='form').submit()\n",
    "time.sleep(5)\n",
    "cookies = driver.get_cookies()\n",
    "# تبدیل لیست کوکی‌ها به رشته JSON\n",
    "cookies_json = json.dumps(cookies)\n",
    "\n",
    "file_path = 'cook.JSON'  # مسیر فایل مورد نظر\n",
    "\n",
    "with open(file_path, 'w') as file:\n",
    "    file.write(cookies_json)\n",
    "\n",
    "driver.quit()"
   ],
   "metadata": {
    "collapsed": false
   }
  },
  {
   "cell_type": "code",
   "execution_count": null,
   "outputs": [],
   "source": [
    "# use cookie with out login"
   ],
   "metadata": {
    "collapsed": false
   }
  },
  {
   "cell_type": "code",
   "execution_count": null,
   "outputs": [],
   "source": [
    "from selenium import webdriver\n",
    "import json\n",
    "import math\n",
    "import time\n",
    "\n",
    "# تعریف مسیر فایل کوکی‌ها\n",
    "cookies_file_path = 'cook.JSON'\n",
    "\n",
    "# باز کردن مرورگر\n",
    "driver = webdriver.Chrome()\n",
    "\n",
    "# باز کردن سایت\n",
    "driver.get('https://www.digikala.com')\n",
    "\n",
    "# خواندن کوکی‌ها از فایل متنی (مثلاً JSON)\n",
    "with open(cookies_file_path, 'r') as cookies_file:\n",
    "    cookies = json.load(cookies_file)\n",
    "\n",
    "# افزودن کوکی‌ها به WebDriver\n",
    "for cookie in cookies:\n",
    "    driver.add_cookie(cookie)\n",
    "\n",
    "# باز کردن صفحه‌ای بدون لاگین\n",
    "driver.get('https://www.digikala.com/incredible-offers/')\n",
    "\n"
   ],
   "metadata": {
    "collapsed": false
   }
  }
 ],
 "metadata": {
  "kernelspec": {
   "display_name": "Python 3",
   "language": "python",
   "name": "python3"
  },
  "language_info": {
   "codemirror_mode": {
    "name": "ipython",
    "version": 2
   },
   "file_extension": ".py",
   "mimetype": "text/x-python",
   "name": "python",
   "nbconvert_exporter": "python",
   "pygments_lexer": "ipython2",
   "version": "2.7.6"
  }
 },
 "nbformat": 4,
 "nbformat_minor": 0
}
