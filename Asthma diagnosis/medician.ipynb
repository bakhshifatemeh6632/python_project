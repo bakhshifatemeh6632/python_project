{
 "cells": [
  {
   "cell_type": "code",
   "execution_count": 7,
   "id": "ccd04c74",
   "metadata": {},
   "outputs": [
    {
     "name": "stdout",
     "output_type": "stream",
     "text": [
      "The new image has asthma.\n"
     ]
    }
   ],
   "source": [
    "import cv2\n",
    "import numpy as np\n",
    "from skimage.feature import local_binary_pattern\n",
    "from sklearn.neighbors import KNeighborsClassifier\n",
    "\n",
    "# تعريف پارامتر هاي LBP\n",
    "radius = 1\n",
    "n_points = 8\n",
    "method = 'uniform'\n",
    "\n",
    "# خواندن عكس ها و تبديل آن ها به خروجي گري اسكيل\n",
    "img1 = cv2.imread('normal.jpg', cv2.IMREAD_GRAYSCALE)\n",
    "img2 = cv2.imread('asthma.jpg', cv2.IMREAD_GRAYSCALE)\n",
    "img3 = cv2.imread('n1.jpg', cv2.IMREAD_GRAYSCALE)\n",
    "\n",
    "# محاسبه LBP براي هر عكس\n",
    "lbp1 = local_binary_pattern(img1, n_points, radius, method)\n",
    "lbp2 = local_binary_pattern(img2, n_points, radius, method)\n",
    "lbp3 = local_binary_pattern(img3, n_points, radius, method)\n",
    "\n",
    "# محاسبه بردار ويژگي براي هر عكس با استفاده از توزيع تاريخچه\n",
    "hist1, _ = np.histogram(lbp1.ravel(), bins=np.arange(0, n_points + 3), range=(0, n_points + 2))\n",
    "hist1 = hist1.astype('float')\n",
    "hist1 /= (hist1.sum() + 1e-7)\n",
    "hist2, _ = np.histogram(lbp2.ravel(), bins=np.arange(0, n_points + 3), range=(0, n_points + 2))\n",
    "hist2 = hist2.astype('float')\n",
    "hist2 /= (hist2.sum() + 1e-7)\n",
    "hist3, _ = np.histogram(lbp3.ravel(), bins=np.arange(0, n_points + 3), range=(0, n_points + 2))\n",
    "hist3 = hist3.astype('float')\n",
    "hist3 /= (hist3.sum() + 1e-7)\n",
    "\n",
    "# تعريف داده هاي آموزش و برچسب هاي آن ها\n",
    "X_train = np.array([hist1, hist2])\n",
    "y_train = np.array([0, 1])\n",
    "\n",
    "# تعريف داده هاي آزمون\n",
    "X_test = np.array([hist3])\n",
    "\n",
    "# ايجاد و آموزش يك دسته بندي kNN با k=1\n",
    "knn = KNeighborsClassifier(n_neighbors=1)\n",
    "knn.fit(X_train, y_train)\n",
    "\n",
    "# پيش بيني كلاس عكس جديد با استفاده از دسته بندي kNN\n",
    "y_pred = knn.predict(X_test)\n",
    "\n",
    "# چاپ نتيجه پيش بيني\n",
    "if y_pred == 0:\n",
    "    print('The new image is normal.')\n",
    "else:\n",
    "    print('The new image has asthma.')\n"
   ]
  },
  {
   "cell_type": "code",
   "execution_count": 8,
   "id": "4a3a3cbe",
   "metadata": {},
   "outputs": [],
   "source": [
    "import cv2\n",
    "import numpy as np\n",
    "\n",
    "# تعریف تابع LBP برای محاسبه الگوهای LBP\n",
    "def LBP(image):\n",
    "    # تعریف جدول افزونگی باینری LBP\n",
    "    LBP_table = np.array([[1, 2, 4], [8, 0, 16], [32, 64, 128]], dtype=np.uint8)\n",
    "\n",
    "    # تبدیل تصویر ورودی به تصویر خاکستری\n",
    "    gray_image = cv2.cvtColor(image, cv2.COLOR_BGR2GRAY)\n",
    "\n",
    "    # ابعاد تصویر\n",
    "    height, width = gray_image.shape\n",
    "\n",
    "    # تصویر LBP خروجی\n",
    "    LBP_image = np.zeros((height, width), dtype=np.uint8)\n",
    "\n",
    "    # محاسبه LBP برای هر پیکسل\n",
    "    for i in range(1, height - 1):\n",
    "        for j in range(1, width - 1):\n",
    "            # مقدار مرکزی پیکسل\n",
    "            center = gray_image[i, j]\n",
    "            code = 0\n",
    "            # محاسبه مقدار LBP با استفاده از جدول افزونگی باینری\n",
    "            for a in range(-1, 2):\n",
    "                for b in range(-1, 2):\n",
    "                    if gray_image[i + a, j + b] >= center:\n",
    "                        code += LBP_table[a + 1, b + 1]\n",
    "            LBP_image[i, j] = code\n",
    "\n",
    "    return LBP_image\n",
    "\n",
    "# خواندن تصویر پزشکی\n",
    "medical_image = cv2.imread('pa.jpg')\n",
    "\n",
    "# محاسبه الگوهای LBP\n",
    "lbp_result = LBP(medical_image)\n",
    "\n",
    "# نمایش تصویر الگوهای LBP\n",
    "cv2.imshow('LBP Image', lbp_result)\n",
    "cv2.waitKey(0)\n",
    "cv2.destroyAllWindows()\n"
   ]
  },
  {
   "cell_type": "markdown",
   "id": "ca107119",
   "metadata": {},
   "source": [
    "#تشخیص استخوان"
   ]
  }
 ],
 "metadata": {
  "kernelspec": {
   "display_name": "Python 3 (ipykernel)",
   "language": "python",
   "name": "python3"
  },
  "language_info": {
   "codemirror_mode": {
    "name": "ipython",
    "version": 3
   },
   "file_extension": ".py",
   "mimetype": "text/x-python",
   "name": "python",
   "nbconvert_exporter": "python",
   "pygments_lexer": "ipython3",
   "version": "3.11.1"
  }
 },
 "nbformat": 4,
 "nbformat_minor": 5
}
