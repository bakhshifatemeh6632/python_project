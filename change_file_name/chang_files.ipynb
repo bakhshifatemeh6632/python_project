{
 "cells": [
  {
   "cell_type": "markdown",
   "source": [
    "#with use this program ,you can change files  name in the folder source."
   ],
   "metadata": {
    "collapsed": false
   }
  },
  {
   "cell_type": "code",
   "execution_count": null,
   "outputs": [],
   "source": [
    "import os\n",
    "\n",
    "# مسیر پوشه حاوی فایل‌های تصویری را مشخص کنید\n",
    "image_directory = \"ax/\"\n",
    "\n",
    "# لیست تمام فایل‌های موجود در پوشه\n",
    "image_files = os.listdir(image_directory)\n",
    "\n",
    "# یک حلقه برای تغییر نام فایل‌ها\n",
    "for index, old_name in enumerate(image_files):\n",
    "    # تشکیل مسیر کامل برای فایل‌ها\n",
    "    old_path = os.path.join(image_directory, old_name)\n",
    "\n",
    "    # تشکیل نام جدید با استفاده از اندیس شماره\n",
    "    new_name = f\"image_{index}.jpg\"\n",
    "\n",
    "    # تشکیل مسیر کامل برای فایل جدید\n",
    "    new_path = os.path.join(image_directory, new_name)\n",
    "\n",
    "    # انجام تغییر نام فایل\n",
    "    os.rename(old_path, new_path)\n"
   ],
   "metadata": {
    "collapsed": false
   }
  }
 ],
 "metadata": {
  "kernelspec": {
   "display_name": "Python 3",
   "language": "python",
   "name": "python3"
  },
  "language_info": {
   "codemirror_mode": {
    "name": "ipython",
    "version": 2
   },
   "file_extension": ".py",
   "mimetype": "text/x-python",
   "name": "python",
   "nbconvert_exporter": "python",
   "pygments_lexer": "ipython2",
   "version": "2.7.6"
  }
 },
 "nbformat": 4,
 "nbformat_minor": 0
}
