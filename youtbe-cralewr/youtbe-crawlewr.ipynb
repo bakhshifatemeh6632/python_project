{
 "cells": [
  {
   "cell_type": "code",
   "execution_count": null,
   "outputs": [],
   "source": [
    "from selenium import webdriver\n",
    "import csv\n",
    "from selenium.webdriver.common.by import By\n",
    "\n",
    "\n",
    "driver=webdriver.Chrome(\"https://edgedl.me.gvt1.com/edgedl/chrome/chrome-for-testing/115.0.5790.170/win64/chromedriver-win64.zip\")\n",
    "\n",
    "search_keyword = input(\"لطفاً کلید واژه مورد نظر را وارد کنید: \")\n",
    "\n",
    "search_url = f\"https://www.youtube.com/results?search_query={search_keyword}\"\n",
    "\n",
    "driver.get(search_url)\n",
    "\n",
    "driver.current_url\n",
    "\n",
    "element = driver.find_elements(By.CSS_SELECTOR, \"#video-title > yt-formatted-string\")\n",
    "all_links = driver.find_elements(By.XPATH, \".//a\")\n",
    "channel_name = driver.find_elements(By.CSS_SELECTOR, \"#channel-name\")\n",
    "\n",
    "try:\n",
    "    csv_file = open('results.csv', 'w', newline='', encoding='utf-8')\n",
    "    csv_writer = csv.writer(csv_file)\n",
    "    csv_writer.writerow(['Video Title', 'Video URL', 'Channel Name'])\n",
    "\n",
    "    for el in element:\n",
    "        text = el.text.strip()  # Strip leading/trailing whitespace\n",
    "        if text:  # Check if text is not empty\n",
    "            csv_writer.writerow([text, '', ''])\n",
    "\n",
    "    # Find and write video URLs\n",
    "    for link in all_links:\n",
    "        video_url = link.get_attribute(\"href\")\n",
    "        if video_url and \"watch?v=\" in video_url:\n",
    "            csv_writer.writerow(['', video_url, ''])  # The first column (Video Title) left blank\n",
    "    #chanel_name:\n",
    "    for i in channel_name:\n",
    "        ch_name=i.text\n",
    "        if ch_name:  # Check if text is not empty\n",
    "            csv_writer.writerow(['', '', ch_name])\n",
    "\n",
    "except Exception as e:\n",
    "    print(\"An error occurred:\", e)\n",
    "finally:\n",
    "    csv_file.close()  # Close the CSV file at the end\n",
    "\n",
    "\n",
    "\n",
    "\n"
   ],
   "metadata": {
    "collapsed": false
   }
  }
 ],
 "metadata": {
  "kernelspec": {
   "display_name": "Python 3",
   "language": "python",
   "name": "python3"
  },
  "language_info": {
   "codemirror_mode": {
    "name": "ipython",
    "version": 2
   },
   "file_extension": ".py",
   "mimetype": "text/x-python",
   "name": "python",
   "nbconvert_exporter": "python",
   "pygments_lexer": "ipython2",
   "version": "2.7.6"
  }
 },
 "nbformat": 4,
 "nbformat_minor": 0
}
