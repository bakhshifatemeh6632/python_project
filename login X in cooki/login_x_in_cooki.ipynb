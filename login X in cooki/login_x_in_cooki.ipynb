{
 "cells": [
  {
   "cell_type": "code",
   "execution_count": null,
   "metadata": {
    "collapsed": true
   },
   "outputs": [],
   "source": []
  },
  {
   "cell_type": "code",
   "execution_count": null,
   "outputs": [],
   "source": [
    "import time\n",
    "import math\n",
    "import json\n",
    "from selenium import webdriver\n",
    "from selenium.webdriver.common.by import By\n",
    "\n",
    "digiUser = \"***************\" # username mobile or username\n",
    "digiPassword = \"***********\" #  password\n",
    "driver = webdriver.Chrome()\n",
    "driver.maximize_window()\n",
    "driver.get('https://twitter.com/i/flow/login') # x.com login page\n",
    "time.sleep(5)\n",
    "\n",
    "driver.find_element(by=By.NAME, value='text').send_keys(digiUser) # enter username\n",
    "driver.find_element(By.XPATH,'/html/body/div/div/div/div[1]/div/div/div/div/div/div/div[2]/div[2]/div/div/div[2]/div[2]/div/div/div/div[6]/div').click()\n",
    "time.sleep(5)\n",
    "\n",
    "driver.find_element(by=By.NAME, value='password').send_keys(digiPassword) # enter password\n",
    "driver.find_element(By.XPATH,'/html/body/div/div/div/div[1]/div/div/div/div/div/div/div[2]/div[2]/div/div/div[2]/div[2]/div[2]/div/div[1]/div/div/div/div').click()\n",
    "time.sleep(5)\n",
    "cookies = driver.get_cookies()\n",
    "# تبدیل لیست کوکی‌ها به رشته JSON\n",
    "cookies_json = json.dumps(cookies)\n",
    "\n",
    "file_path = 'cook.JSON'  # مسیر فایل مورد نظر\n",
    "\n",
    "with open(file_path, 'w') as file:\n",
    "    file.write(cookies_json)\n",
    "\n",
    "driver.quit()\n",
    "\n"
   ],
   "metadata": {
    "collapsed": false
   }
  },
  {
   "cell_type": "code",
   "execution_count": null,
   "outputs": [],
   "source": [
    "from selenium import webdriver\n",
    "import json\n",
    "\n",
    "# تعریف مسیر فایل کوکی‌ها\n",
    "cookies_file_path = 'cook.JSON'\n",
    "\n",
    "# باز کردن مرورگر با ویژگی‌های مورد نیاز\n",
    "driver = webdriver.Chrome()\n",
    "\n",
    "# باز کردن سایت دیجی‌کالا یا هر سایت دیگری که می‌خواهید\n",
    "driver.get('https://twitter.com')\n",
    "\n",
    "# خواندن کوکی‌ها از فایل متنی (مثلاً JSON)\n",
    "with open(cookies_file_path, 'r') as cookies_file:\n",
    "    cookies = json.load(cookies_file)\n",
    "\n",
    "# افزودن کوکی‌ها به WebDriver\n",
    "for cookie in cookies:\n",
    "    driver.add_cookie(cookie)\n",
    "\n",
    "# باز کردن صفحه‌ای که بدون لاگین نیاز دارید\n",
    "driver.get('https://twitter.com/elonmusk/with_replies')\n",
    "\n",
    "answered_user = \"elonmusk\"\n",
    "#\n",
    "search_url = f\"https://twitter.com/{answered_user}/with_replies\"\n",
    "#search_url = f\"https://twitter.com/search?q=to%3A{answered_user}&src=typed_query&f=live\"\n",
    "driver.get(search_url)\n",
    "time.sleep(5)  # انتظار برای بارگذاری صفحه\n",
    "#\n",
    "replies = driver.find_elements(By.XPATH, '//*[@id=\"react-root\"]/div/div/div[2]/main/div/div/div/div/div/div[3]/div/div/nav/div/div[2]/div/div[2]/a/div/div')\n",
    "#tweets = driver.find_elements(By.XPATH, '//*[@id=\"react-root\"]/div/div/div[2]/main/div/div/div/div/div/div[3]')\n",
    "# نمایش آخرین 10 توییت\n",
    "for reply in replies:\n",
    "    reply_text = reply.find_elements(By.XPATH, '//*[@id=\"react-root\"]/div/div/div[2]/main/div/div/div/div/div/div[3]/div/div/section/div/div/div/div/div[7]/div/div/article/div/div/div[2]/div[2]/div[2]').text\n",
    "    print(reply_text)\n",
    "    print(\"-\" * 50)\n",
    "\n",
    "\n",
    "\n",
    "\n"
   ],
   "metadata": {
    "collapsed": false
   }
  }
 ],
 "metadata": {
  "kernelspec": {
   "display_name": "Python 3",
   "language": "python",
   "name": "python3"
  },
  "language_info": {
   "codemirror_mode": {
    "name": "ipython",
    "version": 2
   },
   "file_extension": ".py",
   "mimetype": "text/x-python",
   "name": "python",
   "nbconvert_exporter": "python",
   "pygments_lexer": "ipython2",
   "version": "2.7.6"
  }
 },
 "nbformat": 4,
 "nbformat_minor": 0
}
